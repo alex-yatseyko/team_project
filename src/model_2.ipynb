{
 "cells": [
  {
   "cell_type": "code",
   "execution_count": 1,
   "metadata": {},
   "outputs": [
    {
     "name": "stdout",
     "output_type": "stream",
     "text": [
      "Index(['Unnamed: 0', 'person_age', 'person_income', 'person_emp_length',\n",
      "       'loan_amnt', 'loan_int_rate', 'loan_status', 'loan_percent_income',\n",
      "       'cb_person_cred_hist_length', 'loan_intent_DEBTCONSOLIDATION',\n",
      "       'loan_intent_EDUCATION', 'loan_intent_HOMEIMPROVEMENT',\n",
      "       'loan_intent_MEDICAL', 'loan_intent_PERSONAL', 'loan_intent_VENTURE',\n",
      "       'loan_grade_A', 'loan_grade_B', 'loan_grade_C', 'loan_grade_D',\n",
      "       'loan_grade_E', 'loan_grade_F', 'loan_grade_G',\n",
      "       'person_home_ownership_MORTGAGE', 'person_home_ownership_OTHER',\n",
      "       'person_home_ownership_OWN', 'person_home_ownership_RENT',\n",
      "       'cb_person_default_on_file_Y'],\n",
      "      dtype='object')\n"
     ]
    }
   ],
   "source": [
    "import pickle\n",
    "import pandas as pd\n",
    "from sklearn.tree import DecisionTreeClassifier\n",
    "from sklearn.pipeline import make_pipeline\n",
    "from sklearn.preprocessing import StandardScaler, OneHotEncoder\n",
    "from sklearn.compose import ColumnTransformer\n",
    "from sklearn.impute import SimpleImputer\n",
    "from sklearn.model_selection import train_test_split\n",
    "\n",
    "# Assuming your data is in a CSV file\n",
    "data = pd.read_csv(\"../project/data/processed/processed_credit_risk_dataset.csv\")\n",
    "\n",
    "# Need to drop all columns except age, income, emp, length, laon amount, loan interest reate and of couse loan status\n",
    "print(data.columns)\n",
    "#data = data.drop(['Unnamed: 0', 'person_home_ownership', 'loan_intent', 'loan_grade', 'cb_person_default_on_file', 'cb_person_cred_hist_length'], axis=1)\n",
    "\n",
    "data = data.drop(['Unnamed: 0', 'loan_percent_income',\n",
    "       'cb_person_cred_hist_length', 'loan_intent_DEBTCONSOLIDATION',\n",
    "       'loan_intent_EDUCATION', 'loan_intent_HOMEIMPROVEMENT',\n",
    "       'loan_intent_MEDICAL', 'loan_intent_PERSONAL', 'loan_intent_VENTURE',\n",
    "       'loan_grade_A', 'loan_grade_B', 'loan_grade_C', 'loan_grade_D',\n",
    "       'loan_grade_E', 'loan_grade_F', 'loan_grade_G',\n",
    "       'person_home_ownership_MORTGAGE', 'person_home_ownership_OTHER',\n",
    "       'person_home_ownership_OWN', 'person_home_ownership_RENT',\n",
    "       'cb_person_default_on_file_Y'], axis=1)\n",
    "\n",
    "data.head()\n",
    "\n",
    "# Features and target\n",
    "X = data.drop('loan_status', axis=1)\n",
    "y = data['loan_status']\n",
    "\n",
    "\n",
    "model = DecisionTreeClassifier(random_state=42)\n",
    "\n",
    "# Split the data into train and test sets\n",
    "X_train, X_test, y_train, y_test = train_test_split(X, y, test_size=0.2, random_state=42)\n",
    "\n",
    "# Train the model\n",
    "model.fit(X_train, y_train)\n",
    "\n",
    "# Save the trained model to a file\n",
    "with open('decision_tree_model.pkl', 'wb') as file:\n",
    "    pickle.dump(model, file)\n"
   ]
  },
  {
   "cell_type": "code",
   "execution_count": 3,
   "metadata": {},
   "outputs": [],
   "source": []
  }
 ],
 "metadata": {
  "kernelspec": {
   "display_name": "dsi_participant",
   "language": "python",
   "name": "python3"
  },
  "language_info": {
   "codemirror_mode": {
    "name": "ipython",
    "version": 3
   },
   "file_extension": ".py",
   "mimetype": "text/x-python",
   "name": "python",
   "nbconvert_exporter": "python",
   "pygments_lexer": "ipython3",
   "version": "3.9.18"
  }
 },
 "nbformat": 4,
 "nbformat_minor": 2
}
