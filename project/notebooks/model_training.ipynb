{
 "cells": [
  {
   "cell_type": "markdown",
   "metadata": {},
   "source": [
    "# In this notebook we train and evaluate our models"
   ]
  },
  {
   "cell_type": "code",
   "execution_count": 2,
   "metadata": {},
   "outputs": [],
   "source": [
    "import pandas as pd \n",
    "import numpy as np\n",
    "import random \n",
    "from sklearn.model_selection import train_test_split\n",
    "from sklearn.metrics import confusion_matrix\n",
    "from sklearn.metrics import precision_recall_fscore_support\n",
    "\n",
    "random.seed(42) #in case we will use random somewhere\n",
    "\n",
    "data = pd.read_csv(\"../data/processed/processed_credit_risk_dataset.csv\")"
   ]
  },
  {
   "cell_type": "markdown",
   "metadata": {},
   "source": [
    "## Split test and train data\n",
    "\n"
   ]
  },
  {
   "cell_type": "code",
   "execution_count": 3,
   "metadata": {},
   "outputs": [],
   "source": [
    "y = data['loan_status'].to_numpy()\n",
    "X = data.drop('loan_status',axis = 1).to_numpy()\n",
    "X_train, X_test, y_train, y_test = train_test_split(X, y, test_size=0.25, stratify=y, random_state= 42) #stratify to handle imbalance in target lables"
   ]
  },
  {
   "cell_type": "markdown",
   "metadata": {},
   "source": [
    "## Define metrics and scoring"
   ]
  },
  {
   "cell_type": "code",
   "execution_count": 4,
   "metadata": {},
   "outputs": [],
   "source": [
    "def score_model(model, X_test, y_test):\n",
    "    \n",
    "    \"\"\" \n",
    "    Parameters: \n",
    "         X_test (numpy array)\n",
    "         y_test (numpy array)\n",
    "         model: fitted model\n",
    "    \"\"\"\n",
    "\n",
    "    y_pred = model.predict(X_test)\n",
    "    metrics = precision_recall_fscore_support(y_test, y_pred, pos_label=1, average='binary')\n",
    "    \n",
    "    print('Confusion matrix)\\n', confusion_matrix(y_test, y_pred))\n",
    "    print('Precision is {:0.2f} %'.format(metrics[0]*100))\n",
    "    print('Recall is {:0.2f} %'.format(metrics[1]*100))\n",
    "    print('Fscore is {:0.2f} %'.format(metrics[2]*100))\n"
   ]
  },
  {
   "cell_type": "markdown",
   "metadata": {},
   "source": [
    "## Models"
   ]
  },
  {
   "cell_type": "markdown",
   "metadata": {},
   "source": [
    "### Decision Tree Classifier"
   ]
  },
  {
   "cell_type": "code",
   "execution_count": 5,
   "metadata": {},
   "outputs": [
    {
     "name": "stdout",
     "output_type": "stream",
     "text": [
      "Confusion matrix)\n",
      " [[6311   58]\n",
      " [ 465 1312]]\n",
      "Precision is 95.77 %\n",
      "Recall is 73.83 %\n",
      "Fscore is 83.38 %\n"
     ]
    }
   ],
   "source": [
    "from sklearn.tree import DecisionTreeClassifier # Import Decision Tree Classifier\n",
    "\n",
    "model_DTC =  DecisionTreeClassifier(max_depth = 10, random_state = 42) #define model parameters\n",
    "model_DTC.fit(X_train, y_train) #fit model\n",
    "\n",
    "score_model(model_DTC,X_test,y_test) \n"
   ]
  },
  {
   "cell_type": "markdown",
   "metadata": {},
   "source": [
    "### Logistic Regression"
   ]
  },
  {
   "cell_type": "code",
   "execution_count": 6,
   "metadata": {},
   "outputs": [
    {
     "name": "stdout",
     "output_type": "stream",
     "text": [
      "Confusion matrix)\n",
      " [[6102  267]\n",
      " [1272  505]]\n",
      "Precision is 65.41 %\n",
      "Recall is 28.42 %\n",
      "Fscore is 39.62 %\n"
     ]
    },
    {
     "name": "stderr",
     "output_type": "stream",
     "text": [
      "/opt/miniconda3/envs/dsi_participant/lib/python3.9/site-packages/sklearn/linear_model/_logistic.py:469: ConvergenceWarning: lbfgs failed to converge (status=1):\n",
      "STOP: TOTAL NO. of ITERATIONS REACHED LIMIT.\n",
      "\n",
      "Increase the number of iterations (max_iter) or scale the data as shown in:\n",
      "    https://scikit-learn.org/stable/modules/preprocessing.html\n",
      "Please also refer to the documentation for alternative solver options:\n",
      "    https://scikit-learn.org/stable/modules/linear_model.html#logistic-regression\n",
      "  n_iter_i = _check_optimize_result(\n"
     ]
    }
   ],
   "source": [
    "from sklearn.linear_model import LogisticRegression\n",
    "model_LR = LogisticRegression(random_state = 42)\n",
    "model_LR.fit(X_train, y_train)\n",
    "score_model(model_LR,X_test,y_test)"
   ]
  },
  {
   "cell_type": "code",
   "execution_count": 19,
   "metadata": {},
   "outputs": [
    {
     "name": "stdout",
     "output_type": "stream",
     "text": [
      "Confusion matrix)\n",
      " [[6068  301]\n",
      " [ 815  962]]\n",
      "Precision is 76.17 %\n",
      "Recall is 54.14 %\n",
      "Fscore is 63.29 %\n"
     ]
    }
   ],
   "source": [
    "# Logistic Regression with increased max_iter and scaled data\n",
    "from sklearn.preprocessing import StandardScaler\n",
    "from sklearn.pipeline import Pipeline\n",
    "\n",
    "pipeline = Pipeline([\n",
    "    ('scaler', StandardScaler()),\n",
    "    ('logreg', LogisticRegression(max_iter=1000, random_state=42))\n",
    "])\n",
    "\n",
    "pipeline.fit(X_train, y_train)\n",
    "score_model(pipeline, X_test, y_test)"
   ]
  },
  {
   "cell_type": "markdown",
   "metadata": {},
   "source": [
    "### KNN"
   ]
  },
  {
   "cell_type": "code",
   "execution_count": 16,
   "metadata": {},
   "outputs": [
    {
     "name": "stdout",
     "output_type": "stream",
     "text": [
      "Confusion matrix)\n",
      " [[5966  403]\n",
      " [1288  489]]\n",
      "Precision is 54.82 %\n",
      "Recall is 27.52 %\n",
      "Fscore is 36.64 %\n"
     ]
    }
   ],
   "source": [
    "from sklearn.neighbors import KNeighborsClassifier\n",
    "model_KNN = KNeighborsClassifier(n_neighbors=5)\n",
    "model_KNN.fit(X_train, y_train)\n",
    "score_model(model_KNN,X_test,y_test)"
   ]
  },
  {
   "cell_type": "markdown",
   "metadata": {},
   "source": [
    "### Random Forest"
   ]
  },
  {
   "cell_type": "code",
   "execution_count": 17,
   "metadata": {},
   "outputs": [
    {
     "name": "stdout",
     "output_type": "stream",
     "text": [
      "Confusion matrix)\n",
      " [[6338   31]\n",
      " [ 463 1314]]\n",
      "Precision is 97.70 %\n",
      "Recall is 73.94 %\n",
      "Fscore is 84.18 %\n"
     ]
    }
   ],
   "source": [
    "from sklearn.ensemble import RandomForestClassifier\n",
    "model_RF = RandomForestClassifier(n_estimators=100, random_state=42)\n",
    "model_RF.fit(X_train, y_train)\n",
    "score_model(model_RF,X_test,y_test)"
   ]
  },
  {
   "cell_type": "markdown",
   "metadata": {},
   "source": [
    "### Summary\n",
    "\n",
    "Precision:\n",
    "\n",
    "- Random Forest: 97.70%\n",
    "- Decision Tree: 95.77%\n",
    "- Logistic Regression with increased iterations: 76.17 %\n",
    "- Logistic Regression: 65.41%\n",
    "- KNN: 54.82%\n",
    "\n",
    "Random Forest model has the highest precision, but Decision Tree is very close\n",
    "\n",
    "Recall:\n",
    "\n",
    "- Random Forest: 73.94%\n",
    "- Decision Tree: 73.83%\n",
    "- Logistic Regression with increased iterations: 54.14 %\n",
    "- Logistic Regression: 28.42%\n",
    "-KNN: 27.52%\n",
    "\n",
    "Random Forest model also has the highest recall, meaning it has the lowest false negative rate.\n",
    "\n",
    "F1-Score:\n",
    "\n",
    "- Random Forest: 84.18%\n",
    "- Decision Tree: 83.38%\n",
    "- Logistic Regression with increased iterations: 63.29 %\n",
    "- Logistic Regression: 39.62%\n",
    "- KNN: 36.64%\n",
    "\n",
    "### Conclusion\n",
    "\n",
    "- Random Forest has the highest precision, recall, and F1-Score, making it the best performer for this dataset\n",
    "- Decision Tree is a close second but has slightly lower precision and F1-score compared to Random Forest\n",
    "- Logistic Regression and KNN perform significantly worse in comparison to the tree-based models\n",
    "- Since the Random Forest model shows the best performance, it should be the primary model used for predicting loan defaults\n",
    "- Even though Random Forest performs well, further hyperparameter tuning might improve its performance even more\n",
    "- Increasing maximum number of iteration in Logistic Regression can help with convergence issues but may increase computational time.\n",
    "\n"
   ]
  }
 ],
 "metadata": {
  "kernelspec": {
   "display_name": "dsi_participant",
   "language": "python",
   "name": "python3"
  },
  "language_info": {
   "codemirror_mode": {
    "name": "ipython",
    "version": 3
   },
   "file_extension": ".py",
   "mimetype": "text/x-python",
   "name": "python",
   "nbconvert_exporter": "python",
   "pygments_lexer": "ipython3",
   "version": "3.9.18"
  }
 },
 "nbformat": 4,
 "nbformat_minor": 2
}
